{
  "nbformat": 4,
  "nbformat_minor": 0,
  "metadata": {
    "colab": {
      "provenance": [],
      "authorship_tag": "ABX9TyP4u17TktQju3+PhQOrz0o7",
      "include_colab_link": true
    },
    "kernelspec": {
      "name": "python3",
      "display_name": "Python 3"
    },
    "language_info": {
      "name": "python"
    }
  },
  "cells": [
    {
      "cell_type": "markdown",
      "metadata": {
        "id": "view-in-github",
        "colab_type": "text"
      },
      "source": [
        "<a href=\"https://colab.research.google.com/github/quaneh/tutorials-portfolio/blob/main/Drug_Interaction_Agent.ipynb\" target=\"_parent\"><img src=\"https://colab.research.google.com/assets/colab-badge.svg\" alt=\"Open In Colab\"/></a>"
      ]
    },
    {
      "cell_type": "markdown",
      "source": [
        "# Welcome to My LLM Agent Tutorial! 💊🤖\n",
        "\n",
        "Hey there! In this tutorial, we’re going to build something super cool—a **simple LLM agent** using **Langchain**! And trust me, it’s going to be a handy little tool, especially for all those retail pharmacists out there. 🧑‍⚕️\n",
        "\n",
        "So, what’s the plan? Well, this agent is going to help pharmacists figure out **interactions between two drugs**. The agent will dig into **Wikipedia** to find the listed drug interactions for each one and compare them to see if they’re safe to take together. Think of it like a pharmacist’s little AI sidekick!\n",
        "\n",
        "Here’s the fun part: We’ll be running all of this in **Google Colab**! No need to worry about setting up your local environment or dealing with complicated installations. We’ll start by installing the required libraries like **Langchain**, **OpenAI**, and a few others. 💻\n",
        "\n",
        "By the end of this, you’ll have your own smart assistant who knows its way around the pharmaceutical world. Let’s dive in, install our tools, and have some fun while building this! 🚀\n"
      ],
      "metadata": {
        "id": "5hiA91hQyvlb"
      }
    },
    {
      "cell_type": "code",
      "source": [
        "!pip3 install langchain langchain_community openai wikipedia-api"
      ],
      "metadata": {
        "colab": {
          "base_uri": "https://localhost:8080/"
        },
        "id": "cnYIV9eCzIt4",
        "outputId": "e5448e94-d945-4f9a-c4db-c732f4e6b4b8"
      },
      "execution_count": null,
      "outputs": [
        {
          "output_type": "stream",
          "name": "stdout",
          "text": [
            "Requirement already satisfied: langchain in /usr/local/lib/python3.10/dist-packages (0.3.3)\n",
            "Requirement already satisfied: langchain_community in /usr/local/lib/python3.10/dist-packages (0.3.2)\n",
            "Requirement already satisfied: openai in /usr/local/lib/python3.10/dist-packages (1.52.0)\n",
            "Collecting wikipedia-api\n",
            "  Downloading wikipedia_api-0.7.1.tar.gz (17 kB)\n",
            "  Preparing metadata (setup.py) ... \u001b[?25l\u001b[?25hdone\n",
            "Requirement already satisfied: PyYAML>=5.3 in /usr/local/lib/python3.10/dist-packages (from langchain) (6.0.2)\n",
            "Requirement already satisfied: SQLAlchemy<3,>=1.4 in /usr/local/lib/python3.10/dist-packages (from langchain) (2.0.35)\n",
            "Requirement already satisfied: aiohttp<4.0.0,>=3.8.3 in /usr/local/lib/python3.10/dist-packages (from langchain) (3.10.10)\n",
            "Requirement already satisfied: async-timeout<5.0.0,>=4.0.0 in /usr/local/lib/python3.10/dist-packages (from langchain) (4.0.3)\n",
            "Requirement already satisfied: langchain-core<0.4.0,>=0.3.10 in /usr/local/lib/python3.10/dist-packages (from langchain) (0.3.12)\n",
            "Requirement already satisfied: langchain-text-splitters<0.4.0,>=0.3.0 in /usr/local/lib/python3.10/dist-packages (from langchain) (0.3.0)\n",
            "Requirement already satisfied: langsmith<0.2.0,>=0.1.17 in /usr/local/lib/python3.10/dist-packages (from langchain) (0.1.136)\n",
            "Requirement already satisfied: numpy<2,>=1 in /usr/local/lib/python3.10/dist-packages (from langchain) (1.26.4)\n",
            "Requirement already satisfied: pydantic<3.0.0,>=2.7.4 in /usr/local/lib/python3.10/dist-packages (from langchain) (2.9.2)\n",
            "Requirement already satisfied: requests<3,>=2 in /usr/local/lib/python3.10/dist-packages (from langchain) (2.32.3)\n",
            "Requirement already satisfied: tenacity!=8.4.0,<9.0.0,>=8.1.0 in /usr/local/lib/python3.10/dist-packages (from langchain) (8.5.0)\n",
            "Requirement already satisfied: dataclasses-json<0.7,>=0.5.7 in /usr/local/lib/python3.10/dist-packages (from langchain_community) (0.6.7)\n",
            "Requirement already satisfied: pydantic-settings<3.0.0,>=2.4.0 in /usr/local/lib/python3.10/dist-packages (from langchain_community) (2.6.0)\n",
            "Requirement already satisfied: anyio<5,>=3.5.0 in /usr/local/lib/python3.10/dist-packages (from openai) (3.7.1)\n",
            "Requirement already satisfied: distro<2,>=1.7.0 in /usr/lib/python3/dist-packages (from openai) (1.7.0)\n",
            "Requirement already satisfied: httpx<1,>=0.23.0 in /usr/local/lib/python3.10/dist-packages (from openai) (0.27.2)\n",
            "Requirement already satisfied: jiter<1,>=0.4.0 in /usr/local/lib/python3.10/dist-packages (from openai) (0.6.1)\n",
            "Requirement already satisfied: sniffio in /usr/local/lib/python3.10/dist-packages (from openai) (1.3.1)\n",
            "Requirement already satisfied: tqdm>4 in /usr/local/lib/python3.10/dist-packages (from openai) (4.66.5)\n",
            "Requirement already satisfied: typing-extensions<5,>=4.11 in /usr/local/lib/python3.10/dist-packages (from openai) (4.12.2)\n",
            "Requirement already satisfied: aiohappyeyeballs>=2.3.0 in /usr/local/lib/python3.10/dist-packages (from aiohttp<4.0.0,>=3.8.3->langchain) (2.4.3)\n",
            "Requirement already satisfied: aiosignal>=1.1.2 in /usr/local/lib/python3.10/dist-packages (from aiohttp<4.0.0,>=3.8.3->langchain) (1.3.1)\n",
            "Requirement already satisfied: attrs>=17.3.0 in /usr/local/lib/python3.10/dist-packages (from aiohttp<4.0.0,>=3.8.3->langchain) (24.2.0)\n",
            "Requirement already satisfied: frozenlist>=1.1.1 in /usr/local/lib/python3.10/dist-packages (from aiohttp<4.0.0,>=3.8.3->langchain) (1.4.1)\n",
            "Requirement already satisfied: multidict<7.0,>=4.5 in /usr/local/lib/python3.10/dist-packages (from aiohttp<4.0.0,>=3.8.3->langchain) (6.1.0)\n",
            "Requirement already satisfied: yarl<2.0,>=1.12.0 in /usr/local/lib/python3.10/dist-packages (from aiohttp<4.0.0,>=3.8.3->langchain) (1.14.0)\n",
            "Requirement already satisfied: idna>=2.8 in /usr/local/lib/python3.10/dist-packages (from anyio<5,>=3.5.0->openai) (3.10)\n",
            "Requirement already satisfied: exceptiongroup in /usr/local/lib/python3.10/dist-packages (from anyio<5,>=3.5.0->openai) (1.2.2)\n",
            "Requirement already satisfied: marshmallow<4.0.0,>=3.18.0 in /usr/local/lib/python3.10/dist-packages (from dataclasses-json<0.7,>=0.5.7->langchain_community) (3.23.0)\n",
            "Requirement already satisfied: typing-inspect<1,>=0.4.0 in /usr/local/lib/python3.10/dist-packages (from dataclasses-json<0.7,>=0.5.7->langchain_community) (0.9.0)\n",
            "Requirement already satisfied: certifi in /usr/local/lib/python3.10/dist-packages (from httpx<1,>=0.23.0->openai) (2024.8.30)\n",
            "Requirement already satisfied: httpcore==1.* in /usr/local/lib/python3.10/dist-packages (from httpx<1,>=0.23.0->openai) (1.0.6)\n",
            "Requirement already satisfied: h11<0.15,>=0.13 in /usr/local/lib/python3.10/dist-packages (from httpcore==1.*->httpx<1,>=0.23.0->openai) (0.14.0)\n",
            "Requirement already satisfied: jsonpatch<2.0,>=1.33 in /usr/local/lib/python3.10/dist-packages (from langchain-core<0.4.0,>=0.3.10->langchain) (1.33)\n",
            "Requirement already satisfied: packaging<25,>=23.2 in /usr/local/lib/python3.10/dist-packages (from langchain-core<0.4.0,>=0.3.10->langchain) (24.1)\n",
            "Requirement already satisfied: orjson<4.0.0,>=3.9.14 in /usr/local/lib/python3.10/dist-packages (from langsmith<0.2.0,>=0.1.17->langchain) (3.10.7)\n",
            "Requirement already satisfied: requests-toolbelt<2.0.0,>=1.0.0 in /usr/local/lib/python3.10/dist-packages (from langsmith<0.2.0,>=0.1.17->langchain) (1.0.0)\n",
            "Requirement already satisfied: annotated-types>=0.6.0 in /usr/local/lib/python3.10/dist-packages (from pydantic<3.0.0,>=2.7.4->langchain) (0.7.0)\n",
            "Requirement already satisfied: pydantic-core==2.23.4 in /usr/local/lib/python3.10/dist-packages (from pydantic<3.0.0,>=2.7.4->langchain) (2.23.4)\n",
            "Requirement already satisfied: python-dotenv>=0.21.0 in /usr/local/lib/python3.10/dist-packages (from pydantic-settings<3.0.0,>=2.4.0->langchain_community) (1.0.1)\n",
            "Requirement already satisfied: charset-normalizer<4,>=2 in /usr/local/lib/python3.10/dist-packages (from requests<3,>=2->langchain) (3.4.0)\n",
            "Requirement already satisfied: urllib3<3,>=1.21.1 in /usr/local/lib/python3.10/dist-packages (from requests<3,>=2->langchain) (2.2.3)\n",
            "Requirement already satisfied: greenlet!=0.4.17 in /usr/local/lib/python3.10/dist-packages (from SQLAlchemy<3,>=1.4->langchain) (3.1.1)\n",
            "Requirement already satisfied: jsonpointer>=1.9 in /usr/local/lib/python3.10/dist-packages (from jsonpatch<2.0,>=1.33->langchain-core<0.4.0,>=0.3.10->langchain) (3.0.0)\n",
            "Requirement already satisfied: mypy-extensions>=0.3.0 in /usr/local/lib/python3.10/dist-packages (from typing-inspect<1,>=0.4.0->dataclasses-json<0.7,>=0.5.7->langchain_community) (1.0.0)\n",
            "Requirement already satisfied: propcache>=0.2.0 in /usr/local/lib/python3.10/dist-packages (from yarl<2.0,>=1.12.0->aiohttp<4.0.0,>=3.8.3->langchain) (0.2.0)\n",
            "Building wheels for collected packages: wikipedia-api\n",
            "  Building wheel for wikipedia-api (setup.py) ... \u001b[?25l\u001b[?25hdone\n",
            "  Created wheel for wikipedia-api: filename=Wikipedia_API-0.7.1-py3-none-any.whl size=14347 sha256=8811a880b40f04692306e28c610a2f6f53dd32856ff1ed38b37d7c100fb5cadb\n",
            "  Stored in directory: /root/.cache/pip/wheels/4c/96/18/b9201cc3e8b47b02b510460210cfd832ccf10c0c4dd0522962\n",
            "Successfully built wikipedia-api\n",
            "Installing collected packages: wikipedia-api\n",
            "Successfully installed wikipedia-api-0.7.1\n"
          ]
        }
      ]
    },
    {
      "cell_type": "markdown",
      "source": [
        "# Setup - What’s Going on Here? 🤔\n",
        "\n",
        "Right, so this section is setting the stage to play around with some **language models**! Here’s the gist:\n",
        "\n",
        "- We start by importing a few handy libraries like **OpenAI**, **LangChain**, and **WikipediaAPI** to get things rolling. 📚\n",
        "- Then, there's a **big reminder**—don’t go leaving your API keys lying around in public repos. Keep 'em safe by using **secrets** or **environment variables**! 🔒\n",
        "- The OpenAI API key is fetched using **Google Colab's userdata**, making sure it's securely stored. 🔐\n",
        "- Finally, we initialize the language model (`llm`) using the **OpenAI** library with a little temperature tweaking (which controls how creative the responses will be).\n",
        "\n",
        "In short, this section is all about setting up an **OpenAI language model** and making sure your API key is safe and sound. Time to have some fun with AI without the stress! 😎\n"
      ],
      "metadata": {
        "id": "-oIAuvygx1bc"
      }
    },
    {
      "cell_type": "code",
      "execution_count": null,
      "metadata": {
        "id": "QW415HBCzDvo"
      },
      "outputs": [],
      "source": [
        "import os\n",
        "from langchain.llms import OpenAI\n",
        "from langchain.agents import initialize_agent, Tool\n",
        "from langchain.chains import LLMChain\n",
        "from langchain.prompts import PromptTemplate\n",
        "import wikipediaapi\n",
        "from google.colab import userdata\n",
        "\n",
        "# REMEMBER!! Don't put your API key in any public repo. Store and access it as a secret or environment variable instead.\n",
        "open_ai_key = userdata.get('openAIKey')\n",
        "\n",
        "# Initialize the language model\n",
        "llm = OpenAI(api_key=open_ai_key, temperature=0.7)"
      ]
    },
    {
      "cell_type": "markdown",
      "source": [
        "# Building the Agent - What's Next? 💊🤖\n",
        "\n",
        "So, what are we doing here? We’re building a **super helpful AI assistant** for pharmacists using something called an **LLM agent**. But first, let’s break that down:\n",
        "\n",
        "## What’s an LLM Agent Anyway? 🤔\n",
        "An **LLM agent** is a fancy way of saying a **Language Learning Model (LLM)** that's been set up to interact with specific tools and respond to tasks. Imagine it’s like a super smart assistant, powered by large language models (like OpenAI’s GPT), that can understand instructions and use other resources (like Wikipedia) to get stuff done. 🚀\n",
        "\n",
        "In this case, our agent is like a **pharmacist’s assistant**. It’s going to:\n",
        "1. **Look up drug information** on Wikipedia (with the help of the `search_drug_info` function).\n",
        "2. **Find any sections on drug interactions** (if they exist).\n",
        "3. **Analyze whether it’s safe to take two drugs together** based on the information it digs up.\n",
        "\n",
        "## How Does It Work?\n",
        "We start by setting up **Wikipedia** as a source using the `wikipediaapi` package. The `search_drug_info` function is like the agent’s “search button.” It looks up the drug’s page and tries to extract any section on drug interactions. If it can’t find anything, it politely returns, \"No interaction information found.\" 💁‍♂️\n",
        "\n",
        "Next up, we define a **tool**—this is what our agent will use to perform the search. We wrap everything together in the Langchain **LLM agent**. This is like connecting the dots between the brain (the LLM), the tool (Wikipedia search), and the task (checking for drug interactions).\n",
        "\n",
        "## The Fun Part: Checking Drug Interactions\n",
        "We also write a neat little **prompt template** that explains the agent’s role: “You’re a pharmaceutical assistant; help check for drug interactions.” When the agent runs, it uses this template and the `search_drug_info` function to figure out if two drugs (like **aspirin** and **levisamol**) play nice together or not. 🧑‍⚕️\n",
        "\n",
        "Finally, we **run the agent** by giving it two drugs to check, and it prints out the result. So, pharmacists can get a quick answer to whether it’s safe for someone to take two meds at once! 💊🔬\n",
        "\n",
        "In a nutshell: We’re building a smart agent that helps pharmacists check if two drugs interact, by using Wikipedia to gather and compare drug info. Not only is it efficient, but it also makes life easier for pharmacists (and saves lives!). 🙌\n"
      ],
      "metadata": {
        "id": "HKAcT5ou0lUU"
      }
    },
    {
      "cell_type": "code",
      "source": [
        "wikipedia = wikipediaapi.Wikipedia('Interaction Agent Tutorial', 'en')\n",
        "\n",
        "def search_drug_info(drug_name):\n",
        "    try:\n",
        "        page = wikipedia.page(drug_name)\n",
        "        print(page)\n",
        "        return page.section_by_title('Interactions')\n",
        "    except:\n",
        "        return f\"No interaction information found for {drug_name}\"\n",
        "\n",
        "tools = [\n",
        "    Tool(\n",
        "        name=\"Drug Information Search\",\n",
        "        func=search_drug_info,\n",
        "        description=\"Searches Wikipedia for information about a specific drug.\"\n",
        "    )\n",
        "]"
      ],
      "metadata": {
        "id": "VVU2FHUFzGSN"
      },
      "execution_count": null,
      "outputs": []
    },
    {
      "cell_type": "code",
      "source": [
        "agent = initialize_agent(tools, llm, agent=\"zero-shot-react-description\", verbose=True)"
      ],
      "metadata": {
        "id": "s9dTkxVV1eyJ"
      },
      "execution_count": null,
      "outputs": []
    },
    {
      "cell_type": "code",
      "source": [
        "interaction_checker_template = \"\"\"\n",
        "You are a pharmaceutical assistant for retail pharmacists. Your task is to help check for potential drug interactions by:\n",
        "1. Searching for information about the drugs in question\n",
        "2. Extracting any mentioned interactions\n",
        "3. Analyzing the potential for interaction between the drugs\n",
        "\n",
        "Given Drugs: {drugs}\n",
        "Human: Please check for potential interactions between these drugs.\n",
        "\"\"\""
      ],
      "metadata": {
        "id": "Bd6VF8s30Jg8"
      },
      "execution_count": null,
      "outputs": []
    },
    {
      "cell_type": "code",
      "source": [
        "# Example usage\n",
        "drugs_to_check = \"aspirin and levisamol\"\n",
        "result = agent.run(f\"Check for interactions between {drugs_to_check}\")\n",
        "print(result)"
      ],
      "metadata": {
        "colab": {
          "base_uri": "https://localhost:8080/"
        },
        "id": "WMTsHSDp0PkT",
        "outputId": "5cb72d98-b3e3-4463-fe4f-5d2462c8270d"
      },
      "execution_count": null,
      "outputs": [
        {
          "output_type": "stream",
          "name": "stdout",
          "text": [
            "\n",
            "\n",
            "\u001b[1m> Entering new AgentExecutor chain...\u001b[0m\n",
            "\u001b[32;1m\u001b[1;3m I should check for drug interactions before taking any medication.\n",
            "Action: Drug Information Search\n",
            "Action Input: aspirin\u001b[0maspirin (id: ??, ns: 0)\n",
            "\n",
            "Observation: \u001b[36;1m\u001b[1;3mSection: Interactions (2):\n",
            "Aspirin is known to interact with other drugs. For example, acetazolamide and ammonium chloride are known to enhance the intoxicating effect of salicylates, and alcohol also increases the gastrointestinal bleeding associated with these types of drugs. Aspirin is known to displace a number of drugs from protein-binding sites in the blood, including the antidiabetic drugs tolbutamide and chlorpropamide, warfarin, methotrexate, phenytoin, probenecid, valproic acid (as well as interfering with beta oxidation, an important part of valproate metabolism), and other NSAIDs. Corticosteroids may also reduce the concentration of aspirin. Other NSAIDs, such as ibuprofen and naproxen, may reduce the antiplatelet effect of aspirin. Although limited evidence suggests this may not result in a reduced cardioprotective effect of aspirin. Analgesic doses of aspirin decrease sodium loss induced by spironolactone in the urine, however this does not reduce the antihypertensive effects of spironolactone. Furthermore, antiplatelet doses of aspirin are deemed too small to produce an interaction with spironolactone. Aspirin is known to compete with penicillin G for renal tubular secretion. Aspirin may also inhibit the absorption of vitamin C.\n",
            "Subsections (0):\n",
            "\u001b[0m\n",
            "Thought:\u001b[32;1m\u001b[1;3m I should also check for drug interactions for levisamol.\n",
            "Action: Drug Information Search\n",
            "Action Input: levisamol\u001b[0mlevisamol (id: ??, ns: 0)\n",
            "\n",
            "Observation: \u001b[36;1m\u001b[1;3mNone\u001b[0m\n",
            "Thought:\u001b[32;1m\u001b[1;3m I now know the final answer about interactions between aspirin and levisamol.\n",
            "Final Answer: There are no known interactions between aspirin and levisamol. However, it is always important to consult with a healthcare provider before taking any medications together.\u001b[0m\n",
            "\n",
            "\u001b[1m> Finished chain.\u001b[0m\n",
            "There are no known interactions between aspirin and levisamol. However, it is always important to consult with a healthcare provider before taking any medications together.\n"
          ]
        }
      ]
    },
    {
      "cell_type": "code",
      "source": [
        "# Example usage\n",
        "drugs_to_check = \"levothyroxine and omeprazole\"\n",
        "result = agent.run(f\"Check for interactions between {drugs_to_check}\")\n",
        "print(result)"
      ],
      "metadata": {
        "colab": {
          "base_uri": "https://localhost:8080/"
        },
        "id": "6UFJodkS0stQ",
        "outputId": "a64ca9ae-01a1-4c24-c88d-e3b36b08fa20"
      },
      "execution_count": null,
      "outputs": [
        {
          "output_type": "stream",
          "name": "stdout",
          "text": [
            "\n",
            "\n",
            "\u001b[1m> Entering new AgentExecutor chain...\u001b[0m\n",
            "\u001b[32;1m\u001b[1;3m I should search for drug information\n",
            "Action: Drug Information Search\n",
            "Action Input: levothyroxine\u001b[0mlevothyroxine (id: ??, ns: 0)\n",
            "\n",
            "Observation: \u001b[36;1m\u001b[1;3mSection: Interactions (1):\n",
            "Many foods and other substances  can interfere with absorption of thyroxine. Substances that reduce absorption are aluminium- and magnesium-containing antacids, simethicone, sucralfate, cholestyramine, colestipol, and polystyrene sulfonate. Sevelamer with calcium carbonate may decrease the bioavailability of levothyroxine. Grapefruit juice may delay the absorption of levothyroxine, but based on a study of 10 healthy people aged 20–30 (eight men, two women), it may not have a significant effect on bioavailability in young adults. A study of eight women suggested that coffee may interfere with the intestinal absorption of levothyroxine, though at a level less than eating bran. Certain other substances can cause adverse effects that may be severe. Combination of levothyroxine with ketamine may cause hypertension and tachycardia; and tricyclic and tetracyclic antidepressants increase its toxicity. Soy,  walnuts, fiber, calcium supplements, and iron supplements can also adversely affect absorption. A study found that cow's milk reduces levothyroxine absorption.\n",
            "To minimize interactions, a manufacturer of levothyroxine recommends after taking it,  waiting 30 minutes to one hour before eating or drinking anything that is not water. They further recommend to take it in the morning on an empty stomach.\n",
            "Subsections (0):\n",
            "\u001b[0m\n",
            "Thought:\u001b[32;1m\u001b[1;3m I should search for drug information\n",
            "Action: Drug Information Search\n",
            "Action Input: omeprazole\u001b[0momeprazole (id: ??, ns: 0)\n",
            "\n",
            "Observation: \u001b[36;1m\u001b[1;3mSection: Interactions (1):\n",
            "Important drug interactions are rare. However, the most significant major drug interaction concern is the decreased activation of clopidogrel when taken together with omeprazole. Although still controversial, this may increase the risk of stroke or heart attack in people taking clopidogrel to prevent these events.\n",
            "This interaction is possible because omeprazole is an inhibitor of the enzymes CYP2C19 and CYP3A4. Clopidogrel is an inactive prodrug that partially depends on CYP2C19 for conversion to its active form. Inhibition of CYP2C19 may block the activation of clopidogrel, which could reduce its effects.\n",
            "Almost all benzodiazepines are metabolised by the CYP3A4 and CYP2D6 pathways, and inhibition of these enzymes results in a higher area under the curve (i.e., the total effect over time of a given dose). Other examples of drugs dependent on CYP3A4 for their metabolism are escitalopram, warfarin, oxycodone, tramadol, and oxymorphone. The concentrations of these drugs may increase if they are used concomitantly with omeprazole.\n",
            "Omeprazole is also a competitive inhibitor of p-glycoprotein, as are other PPIs.\n",
            "Drugs that depend on an acidic stomach environment (such as ketoconazole or atazanavir) may be poorly absorbed, whereas acid-labile antibiotics (such as erythromycin which is a very strong CYP3A4 inhibitor) may be absorbed to a greater extent than normal due to the more alkaline environment of the stomach.\n",
            "St. John's wort (Hypericum perforatum) and Ginkgo biloba significantly reduce plasma concentrations of omeprazole through induction of CYP3A4 and CYP2C19.\n",
            "Proton-pump inhibitors like omeprazole have been found to increase the plasma concentrations of methotrexate.\n",
            "Subsections (0):\n",
            "\u001b[0m\n",
            "Thought:\u001b[32;1m\u001b[1;3m I now know the final answer\n",
            "Final Answer: Based on the interactions listed for levothyroxine and omeprazole, there are potential risks and precautions to be aware of when taking these two medications together. It is important to consult with a healthcare professional before starting any new medications, especially if there is a concern for potential interactions.\u001b[0m\n",
            "\n",
            "\u001b[1m> Finished chain.\u001b[0m\n",
            "Based on the interactions listed for levothyroxine and omeprazole, there are potential risks and precautions to be aware of when taking these two medications together. It is important to consult with a healthcare professional before starting any new medications, especially if there is a concern for potential interactions.\n"
          ]
        }
      ]
    },
    {
      "cell_type": "code",
      "source": [],
      "metadata": {
        "id": "Wq7q8dJ_4tMf"
      },
      "execution_count": null,
      "outputs": []
    }
  ]
}